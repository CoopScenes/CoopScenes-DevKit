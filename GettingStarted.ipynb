{
 "cells": [
  {
   "cell_type": "code",
   "execution_count": 1,
   "id": "initial_id",
   "metadata": {
    "collapsed": true,
    "ExecuteTime": {
     "end_time": "2023-09-11T07:25:24.949871993Z",
     "start_time": "2023-09-11T07:25:24.513972298Z"
    }
   },
   "outputs": [
    {
     "ename": "ModuleNotFoundError",
     "evalue": "No module named 'metadata'",
     "output_type": "error",
     "traceback": [
      "\u001B[0;31m---------------------------------------------------------------------------\u001B[0m",
      "\u001B[0;31mModuleNotFoundError\u001B[0m                       Traceback (most recent call last)",
      "Cell \u001B[0;32mIn[1], line 3\u001B[0m\n\u001B[1;32m      1\u001B[0m \u001B[38;5;28;01mfrom\u001B[39;00m \u001B[38;5;21;01mameisedataset\u001B[39;00m \u001B[38;5;28;01mimport\u001B[39;00m core \u001B[38;5;28;01mas\u001B[39;00m Ameise\n\u001B[0;32m----> 3\u001B[0m infos, frames \u001B[38;5;241m=\u001B[39m \u001B[43mAmeise\u001B[49m\u001B[38;5;241;43m.\u001B[39;49m\u001B[43munpack_record\u001B[49m\u001B[43m(\u001B[49m\u001B[38;5;124;43m\"\u001B[39;49m\u001B[38;5;124;43msamples/oneFrameTestFile.4mse\u001B[39;49m\u001B[38;5;124;43m\"\u001B[39;49m\u001B[43m)\u001B[49m\n\u001B[1;32m      4\u001B[0m \u001B[38;5;28mprint\u001B[39m(frames[\u001B[38;5;241m-\u001B[39m\u001B[38;5;241m1\u001B[39m]\u001B[38;5;241m.\u001B[39mimages[Ameise\u001B[38;5;241m.\u001B[39mCamera\u001B[38;5;241m.\u001B[39mSTEREO_LEFT]\u001B[38;5;241m.\u001B[39mtimestamp)\n",
      "File \u001B[0;32m~/workspace/AmeisePerceptionDataset/ameisedataset/core.py:31\u001B[0m, in \u001B[0;36munpack_record\u001B[0;34m(filename)\u001B[0m\n\u001B[1;32m     29\u001B[0m \u001B[38;5;66;03m# Deserialisiere das Info-Objekt\u001B[39;00m\n\u001B[1;32m     30\u001B[0m \u001B[38;5;28;01mif\u001B[39;00m Camera\u001B[38;5;241m.\u001B[39mis_type_of(name\u001B[38;5;241m.\u001B[39mupper()):\n\u001B[0;32m---> 31\u001B[0m     infos\u001B[38;5;241m.\u001B[39mappend(\u001B[43mCameraInformation\u001B[49m\u001B[38;5;241;43m.\u001B[39;49m\u001B[43mfrom_bytes\u001B[49m\u001B[43m(\u001B[49m\u001B[43minfo_bytes\u001B[49m\u001B[43m)\u001B[49m)\n\u001B[1;32m     32\u001B[0m \u001B[38;5;28;01melif\u001B[39;00m Lidar\u001B[38;5;241m.\u001B[39mis_type_of(name\u001B[38;5;241m.\u001B[39mupper()):\n\u001B[1;32m     33\u001B[0m     infos\u001B[38;5;241m.\u001B[39mappend(LidarInformation\u001B[38;5;241m.\u001B[39mfrom_bytes(info_bytes))\n",
      "File \u001B[0;32m~/workspace/AmeisePerceptionDataset/ameisedataset/metadata/devices.py:62\u001B[0m, in \u001B[0;36mCameraInformation.from_bytes\u001B[0;34m(cls, info_data)\u001B[0m\n\u001B[1;32m     60\u001B[0m \u001B[38;5;129m@classmethod\u001B[39m\n\u001B[1;32m     61\u001B[0m \u001B[38;5;28;01mdef\u001B[39;00m \u001B[38;5;21mfrom_bytes\u001B[39m(\u001B[38;5;28mcls\u001B[39m, info_data: \u001B[38;5;28mbytes\u001B[39m):\n\u001B[0;32m---> 62\u001B[0m     \u001B[38;5;28;01mreturn\u001B[39;00m \u001B[43mdill\u001B[49m\u001B[38;5;241;43m.\u001B[39;49m\u001B[43mloads\u001B[49m\u001B[43m(\u001B[49m\u001B[43minfo_data\u001B[49m\u001B[43m)\u001B[49m\n",
      "File \u001B[0;32m~/workspace/AmeisePerceptionDataset/venv/lib/python3.8/site-packages/dill/_dill.py:301\u001B[0m, in \u001B[0;36mloads\u001B[0;34m(str, ignore, **kwds)\u001B[0m\n\u001B[1;32m    290\u001B[0m \u001B[38;5;250m\u001B[39m\u001B[38;5;124;03m\"\"\"\u001B[39;00m\n\u001B[1;32m    291\u001B[0m \u001B[38;5;124;03mUnpickle an object from a string.\u001B[39;00m\n\u001B[1;32m    292\u001B[0m \n\u001B[0;32m   (...)\u001B[0m\n\u001B[1;32m    298\u001B[0m \u001B[38;5;124;03mDefault values for keyword arguments can be set in :mod:`dill.settings`.\u001B[39;00m\n\u001B[1;32m    299\u001B[0m \u001B[38;5;124;03m\"\"\"\u001B[39;00m\n\u001B[1;32m    300\u001B[0m file \u001B[38;5;241m=\u001B[39m StringIO(\u001B[38;5;28mstr\u001B[39m)\n\u001B[0;32m--> 301\u001B[0m \u001B[38;5;28;01mreturn\u001B[39;00m \u001B[43mload\u001B[49m\u001B[43m(\u001B[49m\u001B[43mfile\u001B[49m\u001B[43m,\u001B[49m\u001B[43m \u001B[49m\u001B[43mignore\u001B[49m\u001B[43m,\u001B[49m\u001B[43m \u001B[49m\u001B[38;5;241;43m*\u001B[39;49m\u001B[38;5;241;43m*\u001B[39;49m\u001B[43mkwds\u001B[49m\u001B[43m)\u001B[49m\n",
      "File \u001B[0;32m~/workspace/AmeisePerceptionDataset/venv/lib/python3.8/site-packages/dill/_dill.py:287\u001B[0m, in \u001B[0;36mload\u001B[0;34m(file, ignore, **kwds)\u001B[0m\n\u001B[1;32m    281\u001B[0m \u001B[38;5;28;01mdef\u001B[39;00m \u001B[38;5;21mload\u001B[39m(file, ignore\u001B[38;5;241m=\u001B[39m\u001B[38;5;28;01mNone\u001B[39;00m, \u001B[38;5;241m*\u001B[39m\u001B[38;5;241m*\u001B[39mkwds):\n\u001B[1;32m    282\u001B[0m \u001B[38;5;250m    \u001B[39m\u001B[38;5;124;03m\"\"\"\u001B[39;00m\n\u001B[1;32m    283\u001B[0m \u001B[38;5;124;03m    Unpickle an object from a file.\u001B[39;00m\n\u001B[1;32m    284\u001B[0m \n\u001B[1;32m    285\u001B[0m \u001B[38;5;124;03m    See :func:`loads` for keyword arguments.\u001B[39;00m\n\u001B[1;32m    286\u001B[0m \u001B[38;5;124;03m    \"\"\"\u001B[39;00m\n\u001B[0;32m--> 287\u001B[0m     \u001B[38;5;28;01mreturn\u001B[39;00m \u001B[43mUnpickler\u001B[49m\u001B[43m(\u001B[49m\u001B[43mfile\u001B[49m\u001B[43m,\u001B[49m\u001B[43m \u001B[49m\u001B[43mignore\u001B[49m\u001B[38;5;241;43m=\u001B[39;49m\u001B[43mignore\u001B[49m\u001B[43m,\u001B[49m\u001B[43m \u001B[49m\u001B[38;5;241;43m*\u001B[39;49m\u001B[38;5;241;43m*\u001B[39;49m\u001B[43mkwds\u001B[49m\u001B[43m)\u001B[49m\u001B[38;5;241;43m.\u001B[39;49m\u001B[43mload\u001B[49m\u001B[43m(\u001B[49m\u001B[43m)\u001B[49m\n",
      "File \u001B[0;32m~/workspace/AmeisePerceptionDataset/venv/lib/python3.8/site-packages/dill/_dill.py:442\u001B[0m, in \u001B[0;36mUnpickler.load\u001B[0;34m(self)\u001B[0m\n\u001B[1;32m    441\u001B[0m \u001B[38;5;28;01mdef\u001B[39;00m \u001B[38;5;21mload\u001B[39m(\u001B[38;5;28mself\u001B[39m): \u001B[38;5;66;03m#NOTE: if settings change, need to update attributes\u001B[39;00m\n\u001B[0;32m--> 442\u001B[0m     obj \u001B[38;5;241m=\u001B[39m \u001B[43mStockUnpickler\u001B[49m\u001B[38;5;241;43m.\u001B[39;49m\u001B[43mload\u001B[49m\u001B[43m(\u001B[49m\u001B[38;5;28;43mself\u001B[39;49m\u001B[43m)\u001B[49m\n\u001B[1;32m    443\u001B[0m     \u001B[38;5;28;01mif\u001B[39;00m \u001B[38;5;28mtype\u001B[39m(obj)\u001B[38;5;241m.\u001B[39m\u001B[38;5;18m__module__\u001B[39m \u001B[38;5;241m==\u001B[39m \u001B[38;5;28mgetattr\u001B[39m(_main_module, \u001B[38;5;124m'\u001B[39m\u001B[38;5;124m__name__\u001B[39m\u001B[38;5;124m'\u001B[39m, \u001B[38;5;124m'\u001B[39m\u001B[38;5;124m__main__\u001B[39m\u001B[38;5;124m'\u001B[39m):\n\u001B[1;32m    444\u001B[0m         \u001B[38;5;28;01mif\u001B[39;00m \u001B[38;5;129;01mnot\u001B[39;00m \u001B[38;5;28mself\u001B[39m\u001B[38;5;241m.\u001B[39m_ignore:\n\u001B[1;32m    445\u001B[0m             \u001B[38;5;66;03m# point obj class to main\u001B[39;00m\n",
      "File \u001B[0;32m~/workspace/AmeisePerceptionDataset/venv/lib/python3.8/site-packages/dill/_dill.py:432\u001B[0m, in \u001B[0;36mUnpickler.find_class\u001B[0;34m(self, module, name)\u001B[0m\n\u001B[1;32m    430\u001B[0m     \u001B[38;5;28;01mreturn\u001B[39;00m \u001B[38;5;28mtype\u001B[39m(\u001B[38;5;28;01mNone\u001B[39;00m) \u001B[38;5;66;03m#XXX: special case: NoneType missing\u001B[39;00m\n\u001B[1;32m    431\u001B[0m \u001B[38;5;28;01mif\u001B[39;00m module \u001B[38;5;241m==\u001B[39m \u001B[38;5;124m'\u001B[39m\u001B[38;5;124mdill.dill\u001B[39m\u001B[38;5;124m'\u001B[39m: module \u001B[38;5;241m=\u001B[39m \u001B[38;5;124m'\u001B[39m\u001B[38;5;124mdill._dill\u001B[39m\u001B[38;5;124m'\u001B[39m\n\u001B[0;32m--> 432\u001B[0m \u001B[38;5;28;01mreturn\u001B[39;00m \u001B[43mStockUnpickler\u001B[49m\u001B[38;5;241;43m.\u001B[39;49m\u001B[43mfind_class\u001B[49m\u001B[43m(\u001B[49m\u001B[38;5;28;43mself\u001B[39;49m\u001B[43m,\u001B[49m\u001B[43m \u001B[49m\u001B[43mmodule\u001B[49m\u001B[43m,\u001B[49m\u001B[43m \u001B[49m\u001B[43mname\u001B[49m\u001B[43m)\u001B[49m\n",
      "\u001B[0;31mModuleNotFoundError\u001B[0m: No module named 'metadata'"
     ]
    }
   ],
   "source": [
    "from ameisedataset import core as Ameise\n",
    "\n",
    "infos, frames = Ameise.unpack_record(\"samples/oneFrameTestFile.4mse\")\n",
    "print(frames[-1].images[Ameise.Camera.STEREO_LEFT].timestamp)"
   ]
  },
  {
   "cell_type": "code",
   "execution_count": null,
   "outputs": [],
   "source": [],
   "metadata": {
    "collapsed": false
   },
   "id": "6d90bfcd83fc3b11"
  }
 ],
 "metadata": {
  "kernelspec": {
   "display_name": "Python 3",
   "language": "python",
   "name": "python3"
  },
  "language_info": {
   "codemirror_mode": {
    "name": "ipython",
    "version": 2
   },
   "file_extension": ".py",
   "mimetype": "text/x-python",
   "name": "python",
   "nbconvert_exporter": "python",
   "pygments_lexer": "ipython2",
   "version": "2.7.6"
  }
 },
 "nbformat": 4,
 "nbformat_minor": 5
}
